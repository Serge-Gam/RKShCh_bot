{
 "cells": [
  {
   "cell_type": "code",
   "execution_count": 3,
   "metadata": {
    "collapsed": true
   },
   "outputs": [],
   "source": [
    "dict_users = {'146250723': {'emoji': '😎', 'admin': 'FALSE', 'month': '03/2018', 'user_name': 'Алексей Титов', 'team': 'sound'}, '150497180': {'emoji': '👈', 'admin': 'FALSE', 'month': '03/2018', 'user_name': 'Игорь', 'team': 'video'}, '172974394': {'emoji': '👈', 'admin': 'FALSE', 'month': '03/2018', 'user_name': 'Николай', 'team': 'video'}, '3261372': {'emoji': '👈', 'admin': 'TRUE', 'month': '03/2018', 'user_name': 'Сергей Гамалий', 'team': 'video'}, '387208353': {'emoji': '👈', 'admin': 'FALSE', 'month': '03/2018', 'user_name': 'Петр Тенетко', 'team': 'video'}, '85305365': {'emoji': '👈', 'admin': 'FALSE', 'month': '03/2018', 'user_name': 'Сергей Тимошенко', 'team': 'video'}}\n",
    "file = open('dict_users.txt','w+')\n",
    "file.write(str(dict_users))\n",
    "file.close()"
   ]
  },
  {
   "cell_type": "code",
   "execution_count": null,
   "metadata": {
    "collapsed": true
   },
   "outputs": [],
   "source": [
    "video_set = {'146250723': {'emoji': '😎', 'admin': 'FALSE', 'month': '03/2018', 'user_name': 'Алексей Титов', 'team': 'sound'}, '150497180': {'emoji': '👈', 'admin': 'FALSE', 'month': '03/2018', 'user_name': 'Игорь', 'team': 'video'}, '172974394': {'emoji': '👈', 'admin': 'FALSE', 'month': '03/2018', 'user_name': 'Николай', 'team': 'video'}, '3261372': {'emoji': '👈', 'admin': 'TRUE', 'month': '03/2018', 'user_name': 'Сергей Гамалий', 'team': 'video'}, '387208353': {'emoji': '👈', 'admin': 'FALSE', 'month': '03/2018', 'user_name': 'Петр Тенетко', 'team': 'video'}, '85305365': {'emoji': '👈', 'admin': 'FALSE', 'month': '03/2018', 'user_name': 'Сергей Тимошенко', 'team': 'video'}}\n",
    "file = open('video_set.txt','w+')\n",
    "file.write(str(video_set))\n",
    "file.close()"
   ]
  },
  {
   "cell_type": "code",
   "execution_count": null,
   "metadata": {
    "collapsed": true
   },
   "outputs": [],
   "source": [
    "sound_set = {'146250723': {'emoji': '😎', 'admin': 'FALSE', 'month': '03/2018', 'user_name': 'Алексей Титов', 'team': 'sound'}, '150497180': {'emoji': '👈', 'admin': 'FALSE', 'month': '03/2018', 'user_name': 'Игорь', 'team': 'video'}, '172974394': {'emoji': '👈', 'admin': 'FALSE', 'month': '03/2018', 'user_name': 'Николай', 'team': 'video'}, '3261372': {'emoji': '👈', 'admin': 'TRUE', 'month': '03/2018', 'user_name': 'Сергей Гамалий', 'team': 'video'}, '387208353': {'emoji': '👈', 'admin': 'FALSE', 'month': '03/2018', 'user_name': 'Петр Тенетко', 'team': 'video'}, '85305365': {'emoji': '👈', 'admin': 'FALSE', 'month': '03/2018', 'user_name': 'Сергей Тимошенко', 'team': 'video'}}\n",
    "file = open('video_set.txt','w+')\n",
    "file.write(str(video_set))\n",
    "file.close()"
   ]
  },
  {
   "cell_type": "code",
   "execution_count": 5,
   "metadata": {},
   "outputs": [
    {
     "name": "stdout",
     "output_type": "stream",
     "text": [
      "{'146250723': {'emoji': '😎', 'admin': 'FALSE', 'month': '03/2018', 'user_name': 'Алексей Титов', 'team': 'sound'}, '150497180': {'emoji': '👈', 'admin': 'FALSE', 'month': '03/2018', 'user_name': 'Игорь', 'team': 'video'}, '172974394': {'emoji': '👈', 'admin': 'FALSE', 'month': '03/2018', 'user_name': 'Николай', 'team': 'video'}, '3261372': {'emoji': '👈', 'admin': 'TRUE', 'month': '03/2018', 'user_name': 'Сергей Гамалий', 'team': 'video'}, '387208353': {'emoji': '👈', 'admin': 'FALSE', 'month': '03/2018', 'user_name': 'Петр Тенетко', 'team': 'video'}, '85305365': {'emoji': '👈', 'admin': 'FALSE', 'month': '03/2018', 'user_name': 'Сергей Тимошенко', 'team': 'video'}}\n"
     ]
    }
   ],
   "source": [
    "with open('dict_users.txt') as file:\n",
    "    print(file.read())"
   ]
  },
  {
   "cell_type": "code",
   "execution_count": null,
   "metadata": {
    "collapsed": true
   },
   "outputs": [],
   "source": [
    "with open('video_set.txt') as file:\n",
    "    print(file.read())"
   ]
  }
 ],
 "metadata": {
  "kernelspec": {
   "display_name": "Python 3",
   "language": "python",
   "name": "python3"
  },
  "language_info": {
   "codemirror_mode": {
    "name": "ipython",
    "version": 3
   },
   "file_extension": ".py",
   "mimetype": "text/x-python",
   "name": "python",
   "nbconvert_exporter": "python",
   "pygments_lexer": "ipython3",
   "version": "3.6.3"
  }
 },
 "nbformat": 4,
 "nbformat_minor": 2
}
