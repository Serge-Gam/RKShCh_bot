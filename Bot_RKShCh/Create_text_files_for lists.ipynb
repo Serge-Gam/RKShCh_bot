{
 "cells": [
  {
   "cell_type": "code",
   "execution_count": 1,
   "metadata": {
    "collapsed": true
   },
   "outputs": [],
   "source": [
    "dict_users = {'146250723': {'emoji': '😎', 'admin': 'FALSE', 'month': '03/2018', 'user_name': 'Алексей Титов', 'team': 'sound'}, '150497180': {'emoji': '👈', 'admin': 'FALSE', 'month': '03/2018', 'user_name': 'Игорь', 'team': 'video'}, '172974394': {'emoji': '👈', 'admin': 'FALSE', 'month': '03/2018', 'user_name': 'Николай', 'team': 'video'}, '3261372': {'emoji': '👈', 'admin': 'TRUE', 'month': '03/2018', 'user_name': 'Сергей Гамалий', 'team': 'video'}, '387208353': {'emoji': '👈', 'admin': 'FALSE', 'month': '03/2018', 'user_name': 'Петр Тенетко', 'team': 'video'}, '85305365': {'emoji': '👈', 'admin': 'FALSE', 'month': '03/2018', 'user_name': 'Сергей Тимошенко', 'team': 'video'}}\n",
    "file = open('dict_users.txt','w+')\n",
    "file.write(str(dict_users))\n",
    "file.close()"
   ]
  },
  {
   "cell_type": "code",
   "execution_count": 2,
   "metadata": {
    "collapsed": true
   },
   "outputs": [],
   "source": [
    "video_set = {'Петр Тенетко', 'Николай', 'Сергей Гамалий', 'Валентин', 'Игорь', 'Дима Вологдин', 'Сергей Тимошенко'}\n",
    "file = open('video_set.txt','w+')\n",
    "file.write(str(video_set))\n",
    "file.close()"
   ]
  },
  {
   "cell_type": "code",
   "execution_count": 3,
   "metadata": {
    "collapsed": true
   },
   "outputs": [],
   "source": [
    "sound_set = {'Антон', 'Тамара', 'Ясин', 'Денис', 'Владимир', 'Алексей Косилов', 'Светлана', 'Эдик', 'Эрик', 'Дмитрий Климкин', 'Алексей Титов', 'Даня Лутцев', 'Егор'}\n",
    "file = open('sound_set.txt','w+')\n",
    "file.write(str(sound_set))\n",
    "file.close()"
   ]
  },
  {
   "cell_type": "code",
   "execution_count": 4,
   "metadata": {
    "collapsed": true
   },
   "outputs": [],
   "source": [
    "dict_months = {'11/2018': {'name': 'Ноябрь', 'link': 'https://docs.google.com/spreadsheets/d/1PJGRPOO5mcwESGwglhXdetcgIwthiBnRtI6VpdDu8r8/edit?usp=sharing'}, '06/2018': {'name': 'Июнь', 'link': 'https://docs.google.com/spreadsheets/d/14NyUjtj2dzLuCCTrf8fpHaiqS4EV7etysTdOu3wt7As/edit#gid=0'}, '03/2018': {'name': 'Март', 'link': 'https://docs.google.com/spreadsheets/d/1GwxoMmKZSULq_-w8KtEEsbVdefHCxpFzZHD0trux0aU/edit#gid=0'}, '08/2018': {'name': 'Август', 'link': 'https://docs.google.com/spreadsheets/d/1Bg5KVOHnrlNHuTQ1v-PduP-NuSUgcHkBGyZbZTyvDIM/edit?usp=sharing'}, '04/2018': {'name': 'Апрель', 'link': 'https://docs.google.com/spreadsheets/d/1nGrQcbBjAezNbflZHf2Pcp1suIvNtiwWUDQ6KlbBsJI/edit#gid=0'}, '10/2018': {'name': 'Октябрь', 'link': 'https://docs.google.com/spreadsheets/d/1PeFVKxqsuRNo2OT-D6cHZBQmFoZvbp7WCL-bqwi1KIM/edit#gid=0'}, '12/2018': {'name': 'Декабрь', 'link': 'https://docs.google.com/spreadsheets/d/1sAQ5b6RuPM5bauM8zfE68fTAeKzxvVtqpP7nKfwv7c0/edit#gid=0'}, '09/2018': {'name': 'Сентябрь', 'link': 'https://docs.google.com/spreadsheets/d/1jzWTmfOr2t8XY0VfWQQ3krFIttigXED_etgIvhR57dg/edit?usp=sharing'}, '01/2018': {'name': 'Январь', 'link': 'https://docs.google.com/spreadsheets/d/1fdO6Hj_9ekrUAyz5r7PJ-S3qn3yCUa3EkQ1Xle9e4AA/edit#gid=0'}, '05/2018': {'name': 'Май', 'link': 'https://docs.google.com/spreadsheets/d/1QRkHR3a6aqZRFLKUdFN0HkXBHNPoXEZXhFZUz3lc870/edit?usp=sharing'}, '07/2018': {'name': 'Июль', 'link': 'https://docs.google.com/spreadsheets/d/1X7Hho2M29Aet19kR3n7WAM1BMBllp3e0hhpHW_d2RC0/edit?usp=sharing'}, '02/2018': {'name': 'Февраль', 'link': 'https://docs.google.com/spreadsheets/d/1TEDtNX9IPo03toq8W2EGAuOTxu1FzbWfC6lrvz38s2M/edit#gid=0'}}\n",
    "file = open('dict_months.txt','w+')\n",
    "file.write(str(dict_months))\n",
    "file.close()"
   ]
  },
  {
   "cell_type": "code",
   "execution_count": 5,
   "metadata": {},
   "outputs": [
    {
     "name": "stdout",
     "output_type": "stream",
     "text": [
      "{'146250723': {'emoji': '😎', 'admin': 'FALSE', 'month': '03/2018', 'user_name': 'Алексей Титов', 'team': 'sound'}, '150497180': {'emoji': '👈', 'admin': 'FALSE', 'month': '03/2018', 'user_name': 'Игорь', 'team': 'video'}, '172974394': {'emoji': '👈', 'admin': 'FALSE', 'month': '03/2018', 'user_name': 'Николай', 'team': 'video'}, '3261372': {'emoji': '👈', 'admin': 'TRUE', 'month': '03/2018', 'user_name': 'Сергей Гамалий', 'team': 'video'}, '387208353': {'emoji': '👈', 'admin': 'FALSE', 'month': '03/2018', 'user_name': 'Петр Тенетко', 'team': 'video'}, '85305365': {'emoji': '👈', 'admin': 'FALSE', 'month': '03/2018', 'user_name': 'Сергей Тимошенко', 'team': 'video'}}\n"
     ]
    }
   ],
   "source": [
    "with open('dict_users.txt') as file:\n",
    "    print(file.read())"
   ]
  },
  {
   "cell_type": "code",
   "execution_count": 6,
   "metadata": {},
   "outputs": [
    {
     "name": "stdout",
     "output_type": "stream",
     "text": [
      "{'Дима Вологдин', 'Николай', 'Валентин', 'Петр Тенетко', 'Сергей Тимошенко', 'Сергей Гамалий', 'Игорь'}\n"
     ]
    }
   ],
   "source": [
    "with open('video_set.txt') as file:\n",
    "    print(file.read())"
   ]
  },
  {
   "cell_type": "code",
   "execution_count": 7,
   "metadata": {},
   "outputs": [
    {
     "name": "stdout",
     "output_type": "stream",
     "text": [
      "{'Эрик', 'Даня Лутцев', 'Эдик', 'Денис', 'Алексей Косилов', 'Ясин', 'Владимир', 'Антон', 'Дмитрий Климкин', 'Егор', 'Светлана', 'Тамара', 'Алексей Титов'}\n"
     ]
    }
   ],
   "source": [
    "with open('sound_set.txt') as file:\n",
    "    print(file.read())"
   ]
  },
  {
   "cell_type": "code",
   "execution_count": 8,
   "metadata": {},
   "outputs": [
    {
     "name": "stdout",
     "output_type": "stream",
     "text": [
      "{'11/2018': {'name': 'Ноябрь', 'link': 'https://docs.google.com/spreadsheets/d/1PJGRPOO5mcwESGwglhXdetcgIwthiBnRtI6VpdDu8r8/edit?usp=sharing'}, '06/2018': {'name': 'Июнь', 'link': 'https://docs.google.com/spreadsheets/d/14NyUjtj2dzLuCCTrf8fpHaiqS4EV7etysTdOu3wt7As/edit#gid=0'}, '03/2018': {'name': 'Март', 'link': 'https://docs.google.com/spreadsheets/d/1GwxoMmKZSULq_-w8KtEEsbVdefHCxpFzZHD0trux0aU/edit#gid=0'}, '08/2018': {'name': 'Август', 'link': 'https://docs.google.com/spreadsheets/d/1Bg5KVOHnrlNHuTQ1v-PduP-NuSUgcHkBGyZbZTyvDIM/edit?usp=sharing'}, '04/2018': {'name': 'Апрель', 'link': 'https://docs.google.com/spreadsheets/d/1nGrQcbBjAezNbflZHf2Pcp1suIvNtiwWUDQ6KlbBsJI/edit#gid=0'}, '10/2018': {'name': 'Октябрь', 'link': 'https://docs.google.com/spreadsheets/d/1PeFVKxqsuRNo2OT-D6cHZBQmFoZvbp7WCL-bqwi1KIM/edit#gid=0'}, '12/2018': {'name': 'Декабрь', 'link': 'https://docs.google.com/spreadsheets/d/1sAQ5b6RuPM5bauM8zfE68fTAeKzxvVtqpP7nKfwv7c0/edit#gid=0'}, '09/2018': {'name': 'Сентябрь', 'link': 'https://docs.google.com/spreadsheets/d/1jzWTmfOr2t8XY0VfWQQ3krFIttigXED_etgIvhR57dg/edit?usp=sharing'}, '01/2018': {'name': 'Январь', 'link': 'https://docs.google.com/spreadsheets/d/1fdO6Hj_9ekrUAyz5r7PJ-S3qn3yCUa3EkQ1Xle9e4AA/edit#gid=0'}, '05/2018': {'name': 'Май', 'link': 'https://docs.google.com/spreadsheets/d/1QRkHR3a6aqZRFLKUdFN0HkXBHNPoXEZXhFZUz3lc870/edit?usp=sharing'}, '07/2018': {'name': 'Июль', 'link': 'https://docs.google.com/spreadsheets/d/1X7Hho2M29Aet19kR3n7WAM1BMBllp3e0hhpHW_d2RC0/edit?usp=sharing'}, '02/2018': {'name': 'Февраль', 'link': 'https://docs.google.com/spreadsheets/d/1TEDtNX9IPo03toq8W2EGAuOTxu1FzbWfC6lrvz38s2M/edit#gid=0'}}\n"
     ]
    }
   ],
   "source": [
    "with open('dict_months.txt') as file:\n",
    "    print(file.read())"
   ]
  }
 ],
 "metadata": {
  "kernelspec": {
   "display_name": "Python 3",
   "language": "python",
   "name": "python3"
  },
  "language_info": {
   "codemirror_mode": {
    "name": "ipython",
    "version": 3
   },
   "file_extension": ".py",
   "mimetype": "text/x-python",
   "name": "python",
   "nbconvert_exporter": "python",
   "pygments_lexer": "ipython3",
   "version": "3.6.3"
  }
 },
 "nbformat": 4,
 "nbformat_minor": 2
}
